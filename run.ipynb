{
 "cells": [
  {
   "cell_type": "markdown",
   "metadata": {},
   "source": [
    "# Running and viewing results\n",
    "\n",
    "This is a quick and easy way to run and debug my predictions."
   ]
  },
  {
   "cell_type": "code",
   "execution_count": 1,
   "metadata": {},
   "outputs": [
    {
     "name": "stderr",
     "output_type": "stream",
     "text": [
      "2023-12-03 15:27:32.082543: E tensorflow/compiler/xla/stream_executor/cuda/cuda_dnn.cc:9342] Unable to register cuDNN factory: Attempting to register factory for plugin cuDNN when one has already been registered\n",
      "2023-12-03 15:27:32.082583: E tensorflow/compiler/xla/stream_executor/cuda/cuda_fft.cc:609] Unable to register cuFFT factory: Attempting to register factory for plugin cuFFT when one has already been registered\n",
      "2023-12-03 15:27:32.082602: E tensorflow/compiler/xla/stream_executor/cuda/cuda_blas.cc:1518] Unable to register cuBLAS factory: Attempting to register factory for plugin cuBLAS when one has already been registered\n",
      "2023-12-03 15:27:32.089613: I tensorflow/core/platform/cpu_feature_guard.cc:182] This TensorFlow binary is optimized to use available CPU instructions in performance-critical operations.\n",
      "To enable the following instructions: AVX2 FMA, in other operations, rebuild TensorFlow with the appropriate compiler flags.\n"
     ]
    }
   ],
   "source": [
    "import json\n",
    "import get_predict\n",
    "from pathlib import Path\n",
    "from PIL import Image, ImageOps\n",
    "import pandas as pd\n",
    "\n",
    "IMG_HEIGHT = 1024\n",
    "IMG_WIDTH = 1024"
   ]
  },
  {
   "cell_type": "markdown",
   "metadata": {},
   "source": [
    "### On-off test\n",
    "For validation, I modify this code to quicky get a single prediction."
   ]
  },
  {
   "cell_type": "code",
   "execution_count": 4,
   "metadata": {},
   "outputs": [
    {
     "name": "stdout",
     "output_type": "stream",
     "text": [
      "image.name='morgan_freeman-wikipedia.jpg'\n",
      "1/1 [==============================] - 0s 173ms/step\n",
      "image.name='burt_reynolds-wikipedia.jpg'\n",
      "1/1 [==============================] - 0s 169ms/step\n",
      "image.name='asian_woman-openjourney-v4.jpg'\n",
      "1/1 [==============================] - 0s 176ms/step\n",
      "image.name='me_person-stabilityai-SD-XL-1.0.jpg'\n",
      "1/1 [==============================] - 0s 171ms/step\n",
      "image.name='latinx_person-dalle-mini.jpg'\n",
      "1/1 [==============================] - 0s 169ms/step\n",
      "image.name='me.jpg'\n",
      "1/1 [==============================] - 0s 170ms/step\n",
      "image.name='litmus_real.png'\n",
      "1/1 [==============================] - 0s 170ms/step\n",
      "image.name='litmus_synthetic.jpg'\n",
      "1/1 [==============================] - 0s 173ms/step\n"
     ]
    },
    {
     "data": {
      "text/html": [
       "<div>\n",
       "<style scoped>\n",
       "    .dataframe tbody tr th:only-of-type {\n",
       "        vertical-align: middle;\n",
       "    }\n",
       "\n",
       "    .dataframe tbody tr th {\n",
       "        vertical-align: top;\n",
       "    }\n",
       "\n",
       "    .dataframe thead th {\n",
       "        text-align: right;\n",
       "    }\n",
       "</style>\n",
       "<table border=\"1\" class=\"dataframe\">\n",
       "  <thead>\n",
       "    <tr style=\"text-align: right;\">\n",
       "      <th></th>\n",
       "      <th>prediction</th>\n",
       "      <th>exact_prediction</th>\n",
       "      <th>source</th>\n",
       "    </tr>\n",
       "  </thead>\n",
       "  <tbody>\n",
       "    <tr>\n",
       "      <th>morgan_freeman-wikipedia.jpg</th>\n",
       "      <td>real</td>\n",
       "      <td>0.0000000000</td>\n",
       "      <td>tmp</td>\n",
       "    </tr>\n",
       "    <tr>\n",
       "      <th>burt_reynolds-wikipedia.jpg</th>\n",
       "      <td>real</td>\n",
       "      <td>0.0000042566</td>\n",
       "      <td>tmp</td>\n",
       "    </tr>\n",
       "    <tr>\n",
       "      <th>asian_woman-openjourney-v4.jpg</th>\n",
       "      <td>real</td>\n",
       "      <td>0.0095512047</td>\n",
       "      <td>tmp</td>\n",
       "    </tr>\n",
       "    <tr>\n",
       "      <th>me_person-stabilityai-SD-XL-1.0.jpg</th>\n",
       "      <td>synthetic</td>\n",
       "      <td>1.0000000000</td>\n",
       "      <td>tmp</td>\n",
       "    </tr>\n",
       "    <tr>\n",
       "      <th>latinx_person-dalle-mini.jpg</th>\n",
       "      <td>real</td>\n",
       "      <td>0.0001257265</td>\n",
       "      <td>tmp</td>\n",
       "    </tr>\n",
       "    <tr>\n",
       "      <th>me.jpg</th>\n",
       "      <td>real</td>\n",
       "      <td>0.0128671583</td>\n",
       "      <td>tmp</td>\n",
       "    </tr>\n",
       "    <tr>\n",
       "      <th>litmus_real.png</th>\n",
       "      <td>real</td>\n",
       "      <td>0.0000000001</td>\n",
       "      <td>tmp</td>\n",
       "    </tr>\n",
       "    <tr>\n",
       "      <th>litmus_synthetic.jpg</th>\n",
       "      <td>synthetic</td>\n",
       "      <td>1.0000000000</td>\n",
       "      <td>tmp</td>\n",
       "    </tr>\n",
       "  </tbody>\n",
       "</table>\n",
       "</div>"
      ],
      "text/plain": [
       "                                    prediction exact_prediction source\n",
       "morgan_freeman-wikipedia.jpg              real     0.0000000000    tmp\n",
       "burt_reynolds-wikipedia.jpg               real     0.0000042566    tmp\n",
       "asian_woman-openjourney-v4.jpg            real     0.0095512047    tmp\n",
       "me_person-stabilityai-SD-XL-1.0.jpg  synthetic     1.0000000000    tmp\n",
       "latinx_person-dalle-mini.jpg              real     0.0001257265    tmp\n",
       "me.jpg                                    real     0.0128671583    tmp\n",
       "litmus_real.png                           real     0.0000000001    tmp\n",
       "litmus_synthetic.jpg                 synthetic     1.0000000000    tmp"
      ]
     },
     "execution_count": 4,
     "metadata": {},
     "output_type": "execute_result"
    }
   ],
   "source": [
    "images = [\n",
    "    Path(\"tmp/morgan_freeman-wikipedia.jpg\"),\n",
    "    Path(\"tmp/burt_reynolds-wikipedia.jpg\"),\n",
    "    Path(\"tmp/asian_woman-openjourney-v4.jpg\"),\n",
    "    Path(\"tmp/me_person-stabilityai-SD-XL-1.0.jpg\"),\n",
    "    Path(\"tmp/latinx_person-dalle-mini.jpg\"),\n",
    "    Path(\"tmp/me.jpg\"),\n",
    "    Path(\"tmp/litmus_real.png\"),\n",
    "    Path(\"tmp/litmus_synthetic.jpg\"),\n",
    "]\n",
    "\n",
    "data = get_predict.prediction(images=images)\n",
    "\n",
    "with open(\"reports/one-off_results.json\", \"w+\") as f:\n",
    "    json.dump(data, f)\n",
    "\n",
    "pd.DataFrame.from_dict(data, orient=\"index\")"
   ]
  },
  {
   "cell_type": "markdown",
   "metadata": {},
   "source": [
    "# Generating synthetics\n",
    "\n",
    "Generative prompt:\n",
    "\n",
    "* https://clipdrop.co/stable-diffusion-turbo -- all genders\n",
    "* https://huggingface.co/spaces/google/sdxl -- person, but 4 options provided (all loaded)\n",
    "\n",
    "```\n",
    "{race} {gender} looking directly at the camera for a professional headshot using a Sony A7 III camera with1/250, f/1.4, ISO 200 – FE 35mm 1.4 ZA – Portrait Style and 6200˚K\n",
    "```\n",
    "\n",
    "Supplied **`genders`**:\n",
    "\n",
    "* woman\n",
    "* man\n",
    "* person\n",
    "\n",
    "Supplied **`races`**:\n",
    "\n",
    "* Asian\n",
    "* African\n",
    "* Black\n",
    "* White\n",
    "* Latinx\n",
    "* Middle Eastern\n",
    "* Native American\n",
    "\n",
    "Without knowing the training set categorization, I can only speculate on some of the racial categorizations -- in whether they identified a difference between _black_ (as in the skin color) and _African_ (as in race as a native-born characteristic to a geographical region). "
   ]
  },
  {
   "cell_type": "code",
   "execution_count": null,
   "metadata": {},
   "outputs": [],
   "source": [
    "races = [\n",
    "    \"Asian\",\n",
    "    \"African\",\n",
    "    \"Black\",\n",
    "    \"White\",\n",
    "    \"Latinx\",\n",
    "    \"Middle Eastern\",\n",
    "    \"Native American\",\n",
    "]\n",
    "genders = [\"man\", \"woman\", \"person\"]\n",
    "\n",
    "combined = []\n",
    "for race in races:\n",
    "    [combined.append((race, gender)) for gender in genders]\n",
    "\n",
    "print(f\"Generating {len(combined)} prompts.\")\n",
    "for race, gender in combined:\n",
    "    print(\n",
    "        f\"{race} {gender} looking directly at the camera for a professional headshot taken using a Sony A7 III camera with1/250, f/1.4, ISO 200 – FE 35mm 1.4 ZA – Portrait Style and 6200˚K\"\n",
    "    )"
   ]
  },
  {
   "cell_type": "markdown",
   "metadata": {},
   "source": [
    "## Pre-check"
   ]
  },
  {
   "cell_type": "code",
   "execution_count": null,
   "metadata": {},
   "outputs": [],
   "source": [
    "src_folder = \"tmp\"\n",
    "images = [x for x in Path(src_folder).rglob(\"*.jpg\")]\n",
    "\n",
    "print(f\"Found {len(images)} images to check.\")\n",
    "\n",
    "for img in images:\n",
    "    image = Image.open(img)\n",
    "    print(f\"{img.name}\")\n",
    "    print(f\"\\t{image.mode=}\")\n",
    "    if image.mode != \"RGB\":\n",
    "        image = image.convert(\"RGB\")\n",
    "        image.save(f\"{src_folder}/{img.stem}.jpg\")\n",
    "\n",
    "        print(f\"\\tConverted to {image.mode=}\")\n",
    "        print(f\"\\tSaved to {src_folder}/{img.stem}.jpg\")\n",
    "\n",
    "    print(f\"\\tStarting dimensions: {image.height}x{image.width}\")\n",
    "    # Make square from largest number\n",
    "    smaller_dim = image.width if image.width <= image.height else image.height\n",
    "\n",
    "    # Make no changes to \"square-ness\" unless we need to\n",
    "    if smaller_dim != (image.width + image.height) / 2:\n",
    "        left = int(image.width - smaller_dim) / 2\n",
    "        top = int(image.height - smaller_dim) / 2\n",
    "        right = left\n",
    "        bottom = top\n",
    "\n",
    "        squared = ImageOps.crop(\n",
    "            image,\n",
    "            border=(\n",
    "                left,\n",
    "                top,\n",
    "                right,\n",
    "                bottom,\n",
    "            ),\n",
    "        )\n",
    "\n",
    "        print(f\"\\t{smaller_dim=}\")\n",
    "        print(f\"\\tTrim borders = {left=}, {top=}, {right=}, {bottom=}\")\n",
    "        print(f\"\\tSquared to: {squared.height}x{squared.width}\")\n",
    "\n",
    "    else:\n",
    "        squared = image\n",
    "\n",
    "    # Zoom to desired pixels\n",
    "    result = squared.resize((IMG_HEIGHT, IMG_WIDTH))\n",
    "    print(f\"\\tFinal dimensions: {result.height}x{result.width}\")\n",
    "\n",
    "    # Uncomment to overwrite\n",
    "    result.save(f\"{src_folder}/{img.stem}.jpg\")\n",
    "    print(f\"\\tSaved to {src_folder}/{img.stem}.jpg\")"
   ]
  },
  {
   "cell_type": "markdown",
   "metadata": {},
   "source": [
    "# Run\n",
    "This _can_ run fine on a consumer device. The more images scanned the more this process benefits from utilzing an HPC job since it is CPU heavy."
   ]
  },
  {
   "cell_type": "code",
   "execution_count": null,
   "metadata": {},
   "outputs": [],
   "source": [
    "images = [x for x in Path(\"predict\").rglob(\"*.jpg\")]\n",
    "print(f\"Found {len(images)} images to predict.\")\n",
    "prediction_results = get_predict.prediction(images=images)\n",
    "\n",
    "\n",
    "with open(\"reports/predictions.json\", \"w+\") as f:\n",
    "    json.dump(prediction_results, f)"
   ]
  }
 ],
 "metadata": {
  "kernelspec": {
   "display_name": ".venv",
   "language": "python",
   "name": "python3"
  },
  "language_info": {
   "codemirror_mode": {
    "name": "ipython",
    "version": 3
   },
   "file_extension": ".py",
   "mimetype": "text/x-python",
   "name": "python",
   "nbconvert_exporter": "python",
   "pygments_lexer": "ipython3",
   "version": "3.9.13"
  }
 },
 "nbformat": 4,
 "nbformat_minor": 2
}
